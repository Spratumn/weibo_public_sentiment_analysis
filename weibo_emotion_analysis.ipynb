{
 "cells": [
  {
   "cell_type": "code",
   "execution_count": 1,
   "metadata": {},
   "outputs": [],
   "source": [
    "import pandas as pd\n",
    "import numpy as np"
   ]
  },
  {
   "cell_type": "code",
   "execution_count": 2,
   "metadata": {},
   "outputs": [
    {
     "data": {
      "text/html": [
       "<div>\n",
       "<style scoped>\n",
       "    .dataframe tbody tr th:only-of-type {\n",
       "        vertical-align: middle;\n",
       "    }\n",
       "\n",
       "    .dataframe tbody tr th {\n",
       "        vertical-align: top;\n",
       "    }\n",
       "\n",
       "    .dataframe thead th {\n",
       "        text-align: right;\n",
       "    }\n",
       "</style>\n",
       "<table border=\"1\" class=\"dataframe\">\n",
       "  <thead>\n",
       "    <tr style=\"text-align: right;\">\n",
       "      <th></th>\n",
       "      <th>mid</th>\n",
       "      <th>chinese_text</th>\n",
       "      <th>like_count</th>\n",
       "      <th>comments_count</th>\n",
       "      <th>reposts_count</th>\n",
       "      <th>created_date</th>\n",
       "      <th>user_id</th>\n",
       "      <th>isLongText</th>\n",
       "      <th>attitude</th>\n",
       "    </tr>\n",
       "  </thead>\n",
       "  <tbody>\n",
       "    <tr>\n",
       "      <th>0</th>\n",
       "      <td>4.420000e+15</td>\n",
       "      <td>中秋福利哈，老爷子支持的转账已就位哈哈关注我的真爱转这条抽一个宝贝送新款5g华为mate30...</td>\n",
       "      <td>919</td>\n",
       "      <td>1003</td>\n",
       "      <td>2817</td>\n",
       "      <td>9月13日</td>\n",
       "      <td>1749268063</td>\n",
       "      <td>0</td>\n",
       "      <td>1.0</td>\n",
       "    </tr>\n",
       "    <tr>\n",
       "      <th>1</th>\n",
       "      <td>4.420000e+15</td>\n",
       "      <td>远行随拍，博友假日快乐别说追最新的Mate30系列，iPhone11系列拍照水准就连P30系...</td>\n",
       "      <td>73</td>\n",
       "      <td>87</td>\n",
       "      <td>6</td>\n",
       "      <td>9月15日</td>\n",
       "      <td>1219795431</td>\n",
       "      <td>0</td>\n",
       "      <td>1.0</td>\n",
       "    </tr>\n",
       "    <tr>\n",
       "      <th>2</th>\n",
       "      <td>4.420000e+15</td>\n",
       "      <td>疑似华为mate30 pro真机上手打游戏…小刘海，瀑布屏。真真假假，假假真真。</td>\n",
       "      <td>32</td>\n",
       "      <td>34</td>\n",
       "      <td>0</td>\n",
       "      <td>9月15日</td>\n",
       "      <td>1840918185</td>\n",
       "      <td>0</td>\n",
       "      <td>0.0</td>\n",
       "    </tr>\n",
       "    <tr>\n",
       "      <th>3</th>\n",
       "      <td>4.420000e+15</td>\n",
       "      <td>疑似华为Mate30 保护壳曝光，或采用5倍光变的潜望式镜头。</td>\n",
       "      <td>9</td>\n",
       "      <td>8</td>\n",
       "      <td>2</td>\n",
       "      <td>9月15日</td>\n",
       "      <td>2400814017</td>\n",
       "      <td>0</td>\n",
       "      <td>1.0</td>\n",
       "    </tr>\n",
       "    <tr>\n",
       "      <th>4</th>\n",
       "      <td>4.420000e+15</td>\n",
       "      <td>这个是华为Mate30 PRO吗？想翻过来看正面是不是瀑布屏。</td>\n",
       "      <td>2</td>\n",
       "      <td>1</td>\n",
       "      <td>0</td>\n",
       "      <td>9月15日</td>\n",
       "      <td>3788429711</td>\n",
       "      <td>0</td>\n",
       "      <td>0.0</td>\n",
       "    </tr>\n",
       "  </tbody>\n",
       "</table>\n",
       "</div>"
      ],
      "text/plain": [
       "            mid                                       chinese_text  \\\n",
       "0  4.420000e+15  中秋福利哈，老爷子支持的转账已就位哈哈关注我的真爱转这条抽一个宝贝送新款5g华为mate30...   \n",
       "1  4.420000e+15  远行随拍，博友假日快乐别说追最新的Mate30系列，iPhone11系列拍照水准就连P30系...   \n",
       "2  4.420000e+15          疑似华为mate30 pro真机上手打游戏…小刘海，瀑布屏。真真假假，假假真真。    \n",
       "3  4.420000e+15                   疑似华为Mate30 保护壳曝光，或采用5倍光变的潜望式镜头。    \n",
       "4  4.420000e+15                   这个是华为Mate30 PRO吗？想翻过来看正面是不是瀑布屏。    \n",
       "\n",
       "   like_count  comments_count  reposts_count created_date     user_id  \\\n",
       "0         919            1003           2817        9月13日  1749268063   \n",
       "1          73              87              6        9月15日  1219795431   \n",
       "2          32              34              0        9月15日  1840918185   \n",
       "3           9               8              2        9月15日  2400814017   \n",
       "4           2               1              0        9月15日  3788429711   \n",
       "\n",
       "   isLongText  attitude  \n",
       "0           0       1.0  \n",
       "1           0       1.0  \n",
       "2           0       0.0  \n",
       "3           0       1.0  \n",
       "4           0       0.0  "
      ]
     },
     "execution_count": 2,
     "metadata": {},
     "output_type": "execute_result"
    }
   ],
   "source": [
    "#读取训练数据集\n",
    "mblog=pd.read_csv('clean_mblog.csv',encoding='utf_8_sig')\n",
    "mblog.head()"
   ]
  },
  {
   "cell_type": "code",
   "execution_count": 3,
   "metadata": {},
   "outputs": [],
   "source": [
    "import jieba.analyse\n",
    "def get_keywords(raw):\n",
    "    if raw['isLongText'] == 1:\n",
    "        # 当text为长文本时，提取50个关键词\n",
    "        keywords = jieba.analyse.extract_tags(raw['chinese_text'],topK=50)\n",
    "        keywords = '|'.join(keywords)\n",
    "        return keywords\n",
    "    else:\n",
    "        # 当text为非长文本时，默认提取20个关键词\n",
    "        keywords = jieba.analyse.extract_tags(raw['chinese_text'])\n",
    "        keywords = '|'.join(keywords)\n",
    "        return keywords\n",
    "    "
   ]
  },
  {
   "cell_type": "code",
   "execution_count": 4,
   "metadata": {},
   "outputs": [
    {
     "name": "stderr",
     "output_type": "stream",
     "text": [
      "Building prefix dict from the default dictionary ...\n",
      "Loading model from cache C:\\Users\\QIU\\AppData\\Local\\Temp\\jieba.cache\n",
      "Loading model cost 1.554 seconds.\n",
      "Prefix dict has been built succesfully.\n"
     ]
    }
   ],
   "source": [
    "#生成keyword数据\n",
    "mblog['keywords'] = mblog.apply(get_keywords,axis=1)"
   ]
  },
  {
   "cell_type": "code",
   "execution_count": 5,
   "metadata": {},
   "outputs": [],
   "source": [
    "#导入逻辑回归模型\n",
    "from sklearn.linear_model import LogisticRegression\n",
    "from sklearn.feature_extraction.text import CountVectorizer\n",
    "vectorizer = CountVectorizer(max_features=2000,analyzer='word',tokenizer=lambda s:s.split('|'))"
   ]
  },
  {
   "cell_type": "code",
   "execution_count": 6,
   "metadata": {},
   "outputs": [],
   "source": [
    "#生成词袋向量数据\n",
    "blog_bow = vectorizer.fit_transform(mblog['keywords'])"
   ]
  },
  {
   "cell_type": "code",
   "execution_count": 7,
   "metadata": {},
   "outputs": [],
   "source": [
    "#选定训练样本数据\n",
    "y = mblog[mblog['attitude'].notnull()]['attitude']\n",
    "X=blog_bow[:len(y),:]"
   ]
  },
  {
   "cell_type": "code",
   "execution_count": 8,
   "metadata": {},
   "outputs": [
    {
     "data": {
      "text/plain": [
       "0.99"
      ]
     },
     "execution_count": 8,
     "metadata": {},
     "output_type": "execute_result"
    }
   ],
   "source": [
    "#训练模型并查看训练准确率\n",
    "lr_model = LogisticRegression(random_state=0,solver='lbfgs',multi_class='multinomial').fit(X,y)\n",
    "lr_model.score(X,y)"
   ]
  },
  {
   "cell_type": "code",
   "execution_count": 10,
   "metadata": {},
   "outputs": [
    {
     "name": "stdout",
     "output_type": "stream",
     "text": [
      "华为Mate30保护壳曝光，感觉好丑啊 \n",
      "[0.]\n"
     ]
    }
   ],
   "source": [
    "# 对其他微博进行预测并查看结果\n",
    "print(mblog.chinese_text.iloc[8])\n",
    "print(lr_model.predict(blog_bow[8,:]))"
   ]
  },
  {
   "cell_type": "markdown",
   "metadata": {},
   "source": [
    "在训练样本中该条微博被人工标注为-1：消极  \n",
    "但模型在预测时将其标注为0：中性"
   ]
  },
  {
   "cell_type": "code",
   "execution_count": 12,
   "metadata": {},
   "outputs": [
    {
     "data": {
      "text/plain": [
       "<matplotlib.axes._subplots.AxesSubplot at 0x1fb1c337cc0>"
      ]
     },
     "execution_count": 12,
     "metadata": {},
     "output_type": "execute_result"
    },
    {
     "data": {
      "image/png": "[encoded data removed]",
      "text/plain": [
       "<Figure size 1080x360 with 2 Axes>"
      ]
     },
     "metadata": {},
     "output_type": "display_data"
    }
   ],
   "source": [
    "#查看训练数据各种态度的分布情况\n",
    "import matplotlib.pyplot as plt\n",
    "plt.rcParams['font.sans-serif']=['SimHei'] #用来正常显示中文标签\n",
    "%matplotlib inline\n",
    "predict_attitude = pd.DataFrame(lr_model.predict(blog_bow[:,:]),columns=['predict'])\n",
    "plt.figure(figsize=[15,5])\n",
    "plt.subplot(1,2,1)\n",
    "labels = ['消极','中立','积极']\n",
    "plt.title('训练数据各种态度的分布情况')\n",
    "mblog.groupby('attitude').size().plot.pie(labels=labels,autopct='%1.1f%%',explode=(0.05,0.05,0.05),shadow=True)\n",
    "plt.subplot(1,2,2)\n",
    "labels = ['消极','中立','积极']\n",
    "plt.title('全部预测结果的态度分布情况')\n",
    "predict_attitude.groupby('predict').size().plot.pie(labels=labels,autopct='%1.1f%%',explode=(0.05,0.05,0.05),shadow=True)"
   ]
  },
  {
   "cell_type": "markdown",
   "metadata": {},
   "source": [
    "模型分析：  \n",
    "根据预测的多个微博数据结果，模型把大部分微博都预测为了积极的，分析数据的特点，推测可能是由于数据的分布极不均匀导致的  \n",
    "查看各种态度的分布情况可验证这一推测。"
   ]
  }
 ],
 "metadata": {
  "kernelspec": {
   "display_name": "Python 3",
   "language": "python",
   "name": "python3"
  },
  "language_info": {
   "codemirror_mode": {
    "name": "ipython",
    "version": 3
   },
   "file_extension": ".py",
   "mimetype": "text/x-python",
   "name": "python",
   "nbconvert_exporter": "python",
   "pygments_lexer": "ipython3",
   "version": "3.7.3"
  }
 },
 "nbformat": 4,
 "nbformat_minor": 2
}
