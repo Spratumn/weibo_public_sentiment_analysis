{
 "cells": [
  {
   "cell_type": "code",
   "execution_count": 10,
   "metadata": {},
   "outputs": [],
   "source": [
    "import pandas as pd\n",
    "import pymysql\n",
    "from sqlalchemy import create_engine\n",
    "import re\n",
    "import jieba\n",
    "import jieba.analyse"
   ]
  },
  {
   "cell_type": "markdown",
   "metadata": {},
   "source": [
    "#### 1.从数据库导入微博数据"
   ]
  },
  {
   "cell_type": "code",
   "execution_count": 11,
   "metadata": {},
   "outputs": [
    {
     "data": {
      "text/html": [
       "<div>\n",
       "<style scoped>\n",
       "    .dataframe tbody tr th:only-of-type {\n",
       "        vertical-align: middle;\n",
       "    }\n",
       "\n",
       "    .dataframe tbody tr th {\n",
       "        vertical-align: top;\n",
       "    }\n",
       "\n",
       "    .dataframe thead th {\n",
       "        text-align: right;\n",
       "    }\n",
       "</style>\n",
       "<table border=\"1\" class=\"dataframe\">\n",
       "  <thead>\n",
       "    <tr style=\"text-align: right;\">\n",
       "      <th></th>\n",
       "      <th>mid</th>\n",
       "      <th>raw_text</th>\n",
       "      <th>isLongText</th>\n",
       "      <th>like_count</th>\n",
       "      <th>comments_count</th>\n",
       "      <th>reposts_count</th>\n",
       "      <th>created_at</th>\n",
       "      <th>source</th>\n",
       "      <th>user_id</th>\n",
       "    </tr>\n",
       "  </thead>\n",
       "  <tbody>\n",
       "    <tr>\n",
       "      <th>0</th>\n",
       "      <td>4415998503823307</td>\n",
       "      <td>中秋福利哈，老爷子支持的转账已就位哈哈&lt;br /&gt;&lt;br /&gt;关注我的真爱&lt;span cla...</td>\n",
       "      <td>0</td>\n",
       "      <td>919</td>\n",
       "      <td>1003</td>\n",
       "      <td>2817</td>\n",
       "      <td>09-13</td>\n",
       "      <td>NaN</td>\n",
       "      <td>1749268063</td>\n",
       "    </tr>\n",
       "    <tr>\n",
       "      <th>1</th>\n",
       "      <td>4416476792619830</td>\n",
       "      <td>远行随拍，博友假日快乐&lt;span class=\"url-icon\"&gt;&lt;img alt=[微风...</td>\n",
       "      <td>0</td>\n",
       "      <td>73</td>\n",
       "      <td>87</td>\n",
       "      <td>6</td>\n",
       "      <td>16小时前</td>\n",
       "      <td>HUAWEI P30 Pro</td>\n",
       "      <td>1219795431</td>\n",
       "    </tr>\n",
       "  </tbody>\n",
       "</table>\n",
       "</div>"
      ],
      "text/plain": [
       "                mid                                           raw_text  \\\n",
       "0  4415998503823307  中秋福利哈，老爷子支持的转账已就位哈哈<br /><br />关注我的真爱<span cla...   \n",
       "1  4416476792619830  远行随拍，博友假日快乐<span class=\"url-icon\"><img alt=[微风...   \n",
       "\n",
       "   isLongText  like_count  comments_count  reposts_count created_at  \\\n",
       "0           0         919            1003           2817      09-13   \n",
       "1           0          73              87              6      16小时前   \n",
       "\n",
       "           source     user_id  \n",
       "0             NaN  1749268063  \n",
       "1  HUAWEI P30 Pro  1219795431  "
      ]
     },
     "execution_count": 11,
     "metadata": {},
     "output_type": "execute_result"
    }
   ],
   "source": [
    "#读取数据\n",
    "mblog_frame = pd.read_csv('mblog.csv',index_col=None)\n",
    "mblog_frame.head(2)"
   ]
  },
  {
   "cell_type": "markdown",
   "metadata": {},
   "source": [
    "#### 2.清除text中的非微博正文字符并抽取关键词"
   ]
  },
  {
   "cell_type": "code",
   "execution_count": 21,
   "metadata": {},
   "outputs": [],
   "source": [
    "# 自定义函数\n",
    "def clean_text(raw):\n",
    "    \"\"\"\n",
    "    清除text中的非微博正文字符\n",
    "    返回值类型为元组\n",
    "    \"\"\"\n",
    "    if raw['raw_text']:\n",
    "        text=re.sub('<[^<]*>','',raw['raw_text']) # 清除多余的html语句\n",
    "        text=re.sub('[#\\n]*','',text) # 清除换行符与#符号\n",
    "        text=re.sub('(http://.*)$','',text) # 清除文末的网址\n",
    "        return text \n",
    "    else:\n",
    "        return None\n",
    "def get_chinese_text(raw):\n",
    "    \"\"\"\n",
    "    清除text中的非中文字符\n",
    "    只能提取中文字符，微博中的数字以及英文均会丢失\n",
    "    \"\"\"\n",
    "    if raw['text']:\n",
    "        res_text=''.join(re.findall(r\"[\\u4e00-\\u9fff]{2,}\",raw['text']))\n",
    "        return (raw['mid'],res_text)\n",
    "    else:\n",
    "        return None\n",
    "\n",
    "def get_keywords(raw):\n",
    "    \"\"\"\n",
    "    使用jieba从中文text抽取关键词\n",
    "    默认抽取20个关键词\n",
    "    longtext 提取40个关键词\n",
    "    \"\"\"\n",
    "    if raw['chinese_text']:\n",
    "        if raw['isLongText'] == 1:\n",
    "            # 当text为长文本时，提取50个关键词\n",
    "            keywords = jieba.analyse.extract_tags(raw['chinese_text'],topK=50)\n",
    "        else:\n",
    "            # 当text为非长文本时，默认提取20个关键词\n",
    "            keywords = jieba.analyse.extract_tags(raw['chinese_text'])\n",
    "        return (raw['mid'],keywords)\n",
    "    else:\n",
    "        return None\n",
    "\n",
    "def clean_created_date(raw):\n",
    "    created_date = raw['created_at']\n",
    "    if created_date.endswith('前'):\n",
    "        created_date = '09-15'\n",
    "    elif created_date.startswith('昨天'):\n",
    "        created_date = '09-14'\n",
    "    return created_date"
   ]
  },
  {
   "cell_type": "code",
   "execution_count": 15,
   "metadata": {},
   "outputs": [],
   "source": [
    "#获取清理后的created_date\n",
    "mblog_frame['created_date'] = mblog_frame.apply(clean_created_date,axis=1)"
   ]
  },
  {
   "cell_type": "code",
   "execution_count": 16,
   "metadata": {
    "scrolled": true
   },
   "outputs": [],
   "source": [
    "# 获取清理后的text\n",
    "mblog_frame['chinese_text'] = mblog_frame.apply(clean_text,axis=1)"
   ]
  },
  {
   "cell_type": "code",
   "execution_count": 17,
   "metadata": {},
   "outputs": [],
   "source": [
    "# 以传入字典items()的形式生成DataFrame，指定列名\n",
    "res_mblog = pd.DataFrame(mblog_frame,columns=['mid','chinese_text','like_count','comments_count','reposts_count','created_date','user_id'])"
   ]
  },
  {
   "cell_type": "code",
   "execution_count": 18,
   "metadata": {},
   "outputs": [],
   "source": [
    "# 写入csv文件便于查看数据清洗结果\n",
    "res_mblog.to_csv('clean_mblog.csv', encoding='utf_8_sig',index=False)"
   ]
  },
  {
   "cell_type": "code",
   "execution_count": 22,
   "metadata": {},
   "outputs": [],
   "source": [
    "# 获取关键字并转换为分散存储的DataFrame\n",
    "mid_with_keyword = list(mblog_frame.apply(get_keywords,axis=1))\n",
    "# 这里要把keywords列表存储到数据库，因此需要将keywords列表分开，并与mid对应\n",
    "keywords_list = [(raw[0],w) for raw in mid_with_keyword for w in raw[1]]\n",
    "mid_with_keyword = pd.DataFrame(keywords_list,columns=['mid','keyword'])"
   ]
  },
  {
   "cell_type": "code",
   "execution_count": 23,
   "metadata": {},
   "outputs": [],
   "source": [
    "# 写入csv文件便于查看结果\n",
    "mid_with_keyword.to_csv('keyword.csv', encoding='utf_8_sig',index=False)"
   ]
  },
  {
   "cell_type": "code",
   "execution_count": 10,
   "metadata": {},
   "outputs": [],
   "source": [
    "# 将处理结果写入数据库\n",
    "mid_with_chinese_text.to_sql(name='mblog_text',con=engine,if_exists='append',index=False)\n",
    "mid_with_keyword.to_sql(name='mblog_keyword',con=engine,if_exists='append',index=False)"
   ]
  }
 ],
 "metadata": {
  "kernelspec": {
   "display_name": "Python 3",
   "language": "python",
   "name": "python3"
  },
  "language_info": {
   "codemirror_mode": {
    "name": "ipython",
    "version": 3
   },
   "file_extension": ".py",
   "mimetype": "text/x-python",
   "name": "python",
   "nbconvert_exporter": "python",
   "pygments_lexer": "ipython3",
   "version": "3.7.3"
  }
 },
 "nbformat": 4,
 "nbformat_minor": 2
}
